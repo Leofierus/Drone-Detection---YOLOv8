version https://git-lfs.github.com/spec/v1
oid sha256:eaa491a86ae46cec33e407d69d02b81f45ebf845d3784e2c1b9d8763193398ed
size 72614181
