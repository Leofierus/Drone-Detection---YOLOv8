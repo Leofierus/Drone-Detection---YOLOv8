version https://git-lfs.github.com/spec/v1
oid sha256:7df130cce82fcf027276e1d974b87a5809a0c77cbeddbb69df4cc59964ba074c
size 15076
